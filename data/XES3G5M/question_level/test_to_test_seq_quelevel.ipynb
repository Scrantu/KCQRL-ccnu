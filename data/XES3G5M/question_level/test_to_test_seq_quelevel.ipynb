{
 "cells": [
  {
   "cell_type": "markdown",
   "metadata": {},
   "source": [
    "### Convert the raw test.csv into sequences of length 200. "
   ]
  },
  {
   "cell_type": "code",
   "execution_count": null,
   "metadata": {},
   "outputs": [],
   "source": [
    "import pandas as pd \n",
    "import os"
   ]
  },
  {
   "cell_type": "code",
   "execution_count": null,
   "metadata": {},
   "outputs": [],
   "source": [
    "main_dir = './'\n",
    "orig_test_name = 'test_quelevel.csv'\n",
    "test_seq_name = 'test_sequences_quelevel.csv'"
   ]
  },
  {
   "cell_type": "code",
   "execution_count": null,
   "metadata": {},
   "outputs": [],
   "source": [
    "# Load the CSV file into a DataFrame\n",
    "df = pd.read_csv(os.path.join(main_dir, orig_test_name))\n",
    "\n",
    "# Display the first few rows of the DataFrame to understand its structure\n",
    "df.head()"
   ]
  },
  {
   "cell_type": "code",
   "execution_count": null,
   "metadata": {},
   "outputs": [],
   "source": [
    "# Columns to process\n",
    "columns = ['questions', 'concepts', 'responses', 'timestamps']"
   ]
  },
  {
   "cell_type": "code",
   "execution_count": null,
   "metadata": {},
   "outputs": [],
   "source": [
    "def process_user_data(user_row, max_length=200):\n",
    "    \"\"\"Process a single user's data to ensure each list has a length of 200, padding or splitting as necessary.\"\"\"\n",
    "    processed_rows = []\n",
    "    sequences = [user_row[col].split(',') for col in columns]  # Convert string representations to lists\n",
    "    \n",
    "    # Determine the maximum number of chunks needed across all columns\n",
    "    max_chunks = max((len(seq) + max_length - 1) // max_length for seq in sequences)\n",
    "\n",
    "    for chunk_idx in range(max_chunks):\n",
    "        new_row = user_row.copy()\n",
    "        for i, col in enumerate(columns):\n",
    "            # Extract the chunk for this column\n",
    "            chunk = sequences[i][chunk_idx*max_length : (chunk_idx+1)*max_length]\n",
    "            # Pad the chunk if it's shorter than max_length\n",
    "            if len(chunk) < max_length:\n",
    "                chunk += ['-1'] * (max_length - len(chunk))\n",
    "            new_row[col] = ','.join(chunk)\n",
    "        \n",
    "        # Create selectmask for this chunk\n",
    "        selectmask = [1 if x != '-1' else -1 for x in chunk]\n",
    "        new_row['selectmasks'] = ','.join(map(str, selectmask))\n",
    "        \n",
    "        processed_rows.append(new_row)\n",
    "\n",
    "    return processed_rows\n"
   ]
  },
  {
   "cell_type": "code",
   "execution_count": null,
   "metadata": {},
   "outputs": [],
   "source": [
    "# New DataFrame to hold the processed data, including the fold and uid columns\n",
    "processed_rows = []\n",
    "\n",
    "for _, row in df.iterrows():\n",
    "    processed_rows.extend(process_user_data(row))\n",
    "\n",
    "# Convert the list of dictionaries to a DataFrame\n",
    "processed_df = pd.DataFrame(processed_rows)"
   ]
  },
  {
   "cell_type": "code",
   "execution_count": null,
   "metadata": {},
   "outputs": [],
   "source": [
    "processed_df.head()"
   ]
  },
  {
   "cell_type": "code",
   "execution_count": null,
   "metadata": {},
   "outputs": [],
   "source": [
    "processed_df = processed_df.reset_index()"
   ]
  },
  {
   "cell_type": "code",
   "execution_count": null,
   "metadata": {},
   "outputs": [],
   "source": [
    "processed_df.to_csv(os.path.join(main_dir, test_seq_name), index=False)"
   ]
  },
  {
   "cell_type": "code",
   "execution_count": null,
   "metadata": {},
   "outputs": [],
   "source": []
  }
 ],
 "metadata": {
  "kernelspec": {
   "display_name": ".venv",
   "language": "python",
   "name": "python3"
  },
  "language_info": {
   "codemirror_mode": {
    "name": "ipython",
    "version": 3
   },
   "file_extension": ".py",
   "mimetype": "text/x-python",
   "name": "python",
   "nbconvert_exporter": "python",
   "pygments_lexer": "ipython3",
   "version": "3.9.6"
  }
 },
 "nbformat": 4,
 "nbformat_minor": 2
}
